{
 "cells": [
  {
   "cell_type": "markdown",
   "metadata": {},
   "source": [
    "# **Data Cleaning and Transformation Project**\n",
    "\n",
    "## **Aims**\n",
    "\n",
    "- Change the data types of the height and weight columns\n",
    "- Clean and transform the 'Value', 'Wage' and 'Release Clause' columns into columns of floats\n",
    "- Create a 'Joined Year' column and a 'Time at Club' column\n",
    "- Remove 'star' characters from columns and make these columns numerical\n",
    "- Remove the newline characters from the 'Hits' column\n"
   ]
  },
  {
   "cell_type": "markdown",
   "metadata": {},
   "source": [
    "### **Import csv files into Pandas dataframe** ###"
   ]
  },
  {
   "cell_type": "code",
   "execution_count": 24,
   "metadata": {},
   "outputs": [],
   "source": [
    "import numpy as np\n",
    "import pandas as pd\n",
    "\n",
    "\n",
    "players = pd.read_csv('fifa21 raw data v2.csv',\n",
    "                      usecols=['Joined', 'Value', 'Wage', 'Release Clause', 'Height', 'Weight', 'W/F', 'SM', 'IR', 'Hits'],\n",
    "                      dtype={'Hits': 'string'},\n",
    "                      header=0)"
   ]
  },
  {
   "cell_type": "markdown",
   "metadata": {},
   "source": [
    "### **Change the data types of the height and weight columns**\n",
    "\n"
   ]
  },
  {
   "cell_type": "markdown",
   "metadata": {},
   "source": [
    "#### **Height** ####"
   ]
  },
  {
   "cell_type": "code",
   "execution_count": 25,
   "metadata": {},
   "outputs": [
    {
     "name": "stdout",
     "output_type": "stream",
     "text": [
      "Height                    object\n",
      "Weight                    object\n",
      "Joined                    object\n",
      "Value                     object\n",
      "Wage                      object\n",
      "Release Clause            object\n",
      "W/F                       object\n",
      "SM                        object\n",
      "IR                        object\n",
      "Hits              string[python]\n",
      "Height_cm                  int64\n",
      "dtype: object\n"
     ]
    }
   ],
   "source": [
    "import re\n",
    "# Remove cm from any occurences in the Height column\n",
    "players['Height'] = players['Height'].str.replace('cm', '')\n",
    "\n",
    "# Function to check if a height is in feet'inches format and convert it\n",
    "def convert_height(Height):\n",
    "    if re.match(r\"^\\d+'\\d+$\", Height):  # Matches formats like \"5'9\"\n",
    "        feet, inches = map(int, Height.split(\"'\"))\n",
    "        return feet * 30.48 + inches * 2.54\n",
    "    else:\n",
    "        return float(Height)  # Assume it's already in cm\n",
    "\n",
    "# Apply the function\n",
    "players['Height_cm'] = players['Height'].apply(convert_height)\n",
    "\n",
    "# Convert the column to integers\n",
    "players['Height_cm'] = players['Height_cm'].astype(int)\n",
    "\n",
    "print(players.dtypes)"
   ]
  },
  {
   "cell_type": "code",
   "execution_count": 26,
   "metadata": {},
   "outputs": [
    {
     "name": "stdout",
     "output_type": "stream",
     "text": [
      "Height                     int64\n",
      "Weight                    object\n",
      "Joined                    object\n",
      "Value                     object\n",
      "Wage                      object\n",
      "Release Clause            object\n",
      "W/F                       object\n",
      "SM                        object\n",
      "IR                        object\n",
      "Hits              string[python]\n",
      "dtype: object\n"
     ]
    }
   ],
   "source": [
    "# Replace Height column with Height_cm column\n",
    "players['Height'] = players['Height_cm']\n",
    "\n",
    "# Drop the Height_cm column\n",
    "players = players.drop(columns=['Height_cm'])\n",
    "\n",
    "print(players.dtypes)"
   ]
  },
  {
   "cell_type": "markdown",
   "metadata": {},
   "source": [
    "#### **Weight** ####"
   ]
  },
  {
   "cell_type": "code",
   "execution_count": 27,
   "metadata": {},
   "outputs": [
    {
     "name": "stdout",
     "output_type": "stream",
     "text": [
      "Height                     int64\n",
      "Weight                     int64\n",
      "Joined                    object\n",
      "Value                     object\n",
      "Wage                      object\n",
      "Release Clause            object\n",
      "W/F                       object\n",
      "SM                        object\n",
      "IR                        object\n",
      "Hits              string[python]\n",
      "weight_kg                float64\n",
      "dtype: object\n"
     ]
    }
   ],
   "source": [
    "# Remove kg from any occurences in the Weight column\n",
    "players['Weight'] = players['Weight'].str.replace('kg', '')\n",
    "\n",
    "# Remove lbs from any occurences in the Weight column\n",
    "players['Weight'] = players['Weight'].str.replace('lbs', '')\n",
    "\n",
    "# Convert the column to integers\n",
    "players['Weight'] = players['Weight'].astype(int)\n",
    "\n",
    "# Function to convert lbs to kg if below threshold (assuming weights under 120 are in kg)\n",
    "def convert_weight(Weight):\n",
    "    return Weight * 0.453592 if Weight > 120 else Weight  # Convert only lbs to kg\n",
    "\n",
    "# Apply function to the column\n",
    "players['weight_kg'] = players['Weight'].apply(convert_weight)\n",
    "\n",
    "print(players.dtypes)\n"
   ]
  },
  {
   "cell_type": "markdown",
   "metadata": {},
   "source": [
    "### **Clean and transform the 'Value', 'Wage' and 'Release Clause' columns into columns of floats**"
   ]
  },
  {
   "cell_type": "code",
   "execution_count": 28,
   "metadata": {},
   "outputs": [],
   "source": [
    "# Code for removing thousands(K), millions(M) and billions(B) suffixes\n",
    "\n",
    "def value_to_float(x):\n",
    "    if type(x) == float or type(x) == int:\n",
    "        return x\n",
    "    if 'K' in x:\n",
    "        if len(x) > 1:\n",
    "            return float(x.replace('K', '')) * 1000\n",
    "        return 1000.0\n",
    "    if 'M' in x:\n",
    "        if len(x) > 1:\n",
    "            return float(x.replace('M', '')) * 1000000\n",
    "        return 1000000.0\n",
    "    if 'B' in x:\n",
    "        return float(x.replace('B', '')) * 1000000000\n",
    "    return x"
   ]
  },
  {
   "cell_type": "code",
   "execution_count": 29,
   "metadata": {},
   "outputs": [],
   "source": [
    "# Code to remove currency signs and convert string columns to float columns\n",
    "players['Wage'] = players['Wage'].str[1:].apply(value_to_float).astype(float)\n",
    "players['Value'] = players['Value'].str[1:].apply(value_to_float).astype(float)\n",
    "players['Release Clause'] = players['Release Clause'].str[1:].apply(value_to_float).astype(float)"
   ]
  },
  {
   "cell_type": "code",
   "execution_count": 30,
   "metadata": {},
   "outputs": [
    {
     "data": {
      "text/plain": [
       "0        560000.0\n",
       "1        220000.0\n",
       "2        125000.0\n",
       "3        370000.0\n",
       "4        270000.0\n",
       "           ...   \n",
       "18974      1000.0\n",
       "18975       500.0\n",
       "18976       500.0\n",
       "18977      2000.0\n",
       "18978      1000.0\n",
       "Name: Wage, Length: 18979, dtype: float64"
      ]
     },
     "execution_count": 30,
     "metadata": {},
     "output_type": "execute_result"
    }
   ],
   "source": [
    "players['Wage']"
   ]
  },
  {
   "cell_type": "code",
   "execution_count": 31,
   "metadata": {},
   "outputs": [
    {
     "data": {
      "text/plain": [
       "0        103500000.0\n",
       "1         63000000.0\n",
       "2        120000000.0\n",
       "3        129000000.0\n",
       "4        132000000.0\n",
       "            ...     \n",
       "18974       100000.0\n",
       "18975       130000.0\n",
       "18976       120000.0\n",
       "18977       100000.0\n",
       "18978       100000.0\n",
       "Name: Value, Length: 18979, dtype: float64"
      ]
     },
     "execution_count": 31,
     "metadata": {},
     "output_type": "execute_result"
    }
   ],
   "source": [
    "players['Value']"
   ]
  },
  {
   "cell_type": "code",
   "execution_count": 32,
   "metadata": {},
   "outputs": [
    {
     "data": {
      "text/plain": [
       "0        138400000.0\n",
       "1         75900000.0\n",
       "2        159400000.0\n",
       "3        161000000.0\n",
       "4        166500000.0\n",
       "            ...     \n",
       "18974        70000.0\n",
       "18975       165000.0\n",
       "18976       131000.0\n",
       "18977        88000.0\n",
       "18978        79000.0\n",
       "Name: Release Clause, Length: 18979, dtype: float64"
      ]
     },
     "execution_count": 32,
     "metadata": {},
     "output_type": "execute_result"
    }
   ],
   "source": [
    "players['Release Clause']"
   ]
  },
  {
   "cell_type": "markdown",
   "metadata": {},
   "source": [
    "### **Create a 'Joined Year' column and a 'Time at Club' column**"
   ]
  },
  {
   "cell_type": "code",
   "execution_count": 33,
   "metadata": {},
   "outputs": [],
   "source": [
    "# Code to create 'Joined Year' and 'Time at Club' columns\n",
    "players['Joined Year'] = players['Joined'].str[-4:].astype(int)\n",
    "players['Time at Club'] = 2024 - players['Joined Year']\n"
   ]
  },
  {
   "cell_type": "code",
   "execution_count": 34,
   "metadata": {},
   "outputs": [
    {
     "data": {
      "text/plain": [
       "0        20\n",
       "1         6\n",
       "2        10\n",
       "3         9\n",
       "4         7\n",
       "         ..\n",
       "18974     6\n",
       "18975     4\n",
       "18976     5\n",
       "18977     4\n",
       "18978     5\n",
       "Name: Time at Club, Length: 18979, dtype: int64"
      ]
     },
     "execution_count": 34,
     "metadata": {},
     "output_type": "execute_result"
    }
   ],
   "source": [
    "players['Time at Club']"
   ]
  },
  {
   "cell_type": "markdown",
   "metadata": {},
   "source": [
    "### **Remove 'star' characters from columns and make these columns numerical**"
   ]
  },
  {
   "cell_type": "code",
   "execution_count": 35,
   "metadata": {},
   "outputs": [],
   "source": [
    "# Code to remove 'star' characters\n",
    "players['W/F'] = players['W/F'].str[:-2].astype(int)\n",
    "players['SM'] = players['SM'].str[:-1].astype(int)\n",
    "players['IR'] = players['IR'].str[:-2].astype(int)"
   ]
  },
  {
   "cell_type": "code",
   "execution_count": 36,
   "metadata": {},
   "outputs": [
    {
     "data": {
      "text/plain": [
       "0        4\n",
       "1        4\n",
       "2        3\n",
       "3        5\n",
       "4        5\n",
       "        ..\n",
       "18974    2\n",
       "18975    2\n",
       "18976    2\n",
       "18977    3\n",
       "18978    3\n",
       "Name: W/F, Length: 18979, dtype: int64"
      ]
     },
     "execution_count": 36,
     "metadata": {},
     "output_type": "execute_result"
    }
   ],
   "source": [
    "players['W/F']"
   ]
  },
  {
   "cell_type": "code",
   "execution_count": 37,
   "metadata": {},
   "outputs": [
    {
     "data": {
      "text/plain": [
       "0        4\n",
       "1        5\n",
       "2        1\n",
       "3        4\n",
       "4        5\n",
       "        ..\n",
       "18974    2\n",
       "18975    2\n",
       "18976    2\n",
       "18977    2\n",
       "18978    2\n",
       "Name: SM, Length: 18979, dtype: int64"
      ]
     },
     "execution_count": 37,
     "metadata": {},
     "output_type": "execute_result"
    }
   ],
   "source": [
    "players['SM']"
   ]
  },
  {
   "cell_type": "code",
   "execution_count": 38,
   "metadata": {},
   "outputs": [
    {
     "data": {
      "text/plain": [
       "0        5\n",
       "1        5\n",
       "2        3\n",
       "3        4\n",
       "4        5\n",
       "        ..\n",
       "18974    1\n",
       "18975    1\n",
       "18976    1\n",
       "18977    1\n",
       "18978    1\n",
       "Name: IR, Length: 18979, dtype: int64"
      ]
     },
     "execution_count": 38,
     "metadata": {},
     "output_type": "execute_result"
    }
   ],
   "source": [
    "players['IR']"
   ]
  },
  {
   "cell_type": "markdown",
   "metadata": {},
   "source": [
    "### **Remove the newline characters from the 'Hits' column**"
   ]
  },
  {
   "cell_type": "code",
   "execution_count": 39,
   "metadata": {},
   "outputs": [],
   "source": [
    "# Code to remove newline characters from 'Hits' column\n",
    "players['Hits'] = players['Hits'].str.replace('\\n', '')"
   ]
  },
  {
   "cell_type": "code",
   "execution_count": 40,
   "metadata": {},
   "outputs": [
    {
     "data": {
      "text/plain": [
       "0         771\n",
       "1         562\n",
       "2         150\n",
       "3         207\n",
       "4         595\n",
       "         ... \n",
       "18974    <NA>\n",
       "18975    <NA>\n",
       "18976    <NA>\n",
       "18977    <NA>\n",
       "18978    <NA>\n",
       "Name: Hits, Length: 18979, dtype: string"
      ]
     },
     "execution_count": 40,
     "metadata": {},
     "output_type": "execute_result"
    }
   ],
   "source": [
    "players['Hits']"
   ]
  }
 ],
 "metadata": {
  "kernelspec": {
   "display_name": "Python 3",
   "language": "python",
   "name": "python3"
  },
  "language_info": {
   "codemirror_mode": {
    "name": "ipython",
    "version": 3
   },
   "file_extension": ".py",
   "mimetype": "text/x-python",
   "name": "python",
   "nbconvert_exporter": "python",
   "pygments_lexer": "ipython3",
   "version": "3.12.2"
  }
 },
 "nbformat": 4,
 "nbformat_minor": 2
}
